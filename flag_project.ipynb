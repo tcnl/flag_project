{
  "cells": [
    {
      "cell_type": "code",
      "execution_count": 49,
      "metadata": {
        "id": "hpIct9QJMmxp"
      },
      "outputs": [],
      "source": [
        "#!pip install https://files.pythonhosted.org/packages/19/3d/4e3a1609bf52f2f7b00436cc751eb977e27040665dde2bd57e7152989672/googletrans-3.1.0a0.tar.gz\r\n",
        "!pip install pycountry -q -U"
      ]
    },
    {
      "cell_type": "code",
      "execution_count": null,
      "metadata": {
        "id": "BjpU8BoTx5IF"
      },
      "outputs": [],
      "source": [
        "from email.mime.text import MIMEText\r\n",
        "from googletrans import Translator\r\n",
        "import requests\r\n",
        "from requests import get\r\n",
        "import re\r\n",
        "import sys\r\n",
        "import os\r\n",
        "import ast\r\n",
        "import re\r\n",
        "import urllib\r\n",
        "import smtplib"
      ]
    },
    {
      "cell_type": "code",
      "execution_count": null,
      "metadata": {
        "colab": {
          "background_save": true
        },
        "id": "nfgSpihgyfrr"
      },
      "outputs": [],
      "source": [
        "url = \"https://www.gov.br/mre/pt-br/assuntos/representacoes/estrangeiras-no-brasil\""
      ]
    },
    {
      "cell_type": "code",
      "execution_count": null,
      "metadata": {
        "colab": {
          "background_save": true
        },
        "id": "SHdmu0n3zGo5",
        "outputId": "b55fb246-71d5-4103-c17b-c14df39c1585"
      },
      "outputs": [],
      "source": [
        "print(\"Crawling URL %s\" % url)\n",
        "try:\n",
        "    response = requests.get(url)\n",
        "except (requests.exceptions.MissingSchema, requests.exceptions.ConnectionError):\n",
        "    pass"
      ]
    },
    {
      "cell_type": "code",
      "execution_count": null,
      "metadata": {
        "colab": {
          "background_save": true
        },
        "id": "zKyCT93Fbh20"
      },
      "outputs": [],
      "source": [
        "new_emails = (re.findall(r\"[a-z0-9+_][a-z0-9\\.\\-+_]+@[a-z0-9\\.\\-+_]+\\.[a-z0-9\\.\\-+_]+|Embaixada d[a-z0-9^A-zÀ-ú\\-+_\\s]+|Consulado[\\-\\s][a-z0-9^A-zÀ-ú\\-+_\\s]+\", response.text, re.I))"
      ]
    },
    {
      "cell_type": "code",
      "execution_count": null,
      "metadata": {},
      "outputs": [],
      "source": [
        "new_emails"
      ]
    },
    {
      "cell_type": "code",
      "execution_count": null,
      "metadata": {
        "colab": {
          "background_save": true
        },
        "id": "YIuZKZwjh_Nt"
      },
      "outputs": [],
      "source": [
        "mylist = list(dict.fromkeys(new_emails))"
      ]
    },
    {
      "cell_type": "code",
      "execution_count": 40,
      "metadata": {
        "colab": {
          "background_save": true
        },
        "id": "8sBSIEz6jLdL"
      },
      "outputs": [],
      "source": [
        "is_email = True #Anterior foi email?\n",
        "for item in mylist:\n",
        "  if re.search(r\"Embaixada d[a-z0-9^A-zÀ-ú\\-+_\\s]+|Consulado[a-z0-9^A-zÀ-ú\\-+_\\s]+\", item) and is_email == True: #Item eh uma Embx ou Consulado e Anterior foi email?\n",
        "    is_email = False\n",
        "  elif re.search(r\"[a-z0-9+_][a-z0-9\\.\\-+_]+@[a-z0-9\\.\\-+_]+\\.[a-z0-9\\.\\-+_]+\", item): #Item eh um email?\n",
        "    is_email = True\n",
        "  else: #Item n eh um email ou veio strings inuteis\n",
        "    mylist.remove(item)"
      ]
    },
    {
      "cell_type": "code",
      "execution_count": 44,
      "metadata": {},
      "outputs": [],
      "source": [
        "mylist.remove(mylist[0])\r\n",
        "mylist.remove(mylist[0])\r\n",
        "mylist[0] = \"Embaixada do Afeganistão no Brasil\""
      ]
    },
    {
      "cell_type": "code",
      "execution_count": 46,
      "metadata": {
        "id": "LpkokKoCjeuU"
      },
      "outputs": [
        {
          "data": {
            "text/plain": [
              "['Embaixada do Afeganistão no Brasil',\n",
              " 'info@embassyofafghanistan.org',\n",
              " 'Representantes Diplomáticos da África do Sul',\n",
              " 'brasilia.general@dirco.gov.za',\n",
              " 'guedesf@dirco.gov.za',\n",
              " 'nchabeleng@dirco.gov.za',\n",
              " 'Embaixada da Albânia em Brasília',\n",
              " 'embassy.brasilia@mfa.gov.al',\n",
              " 'Embaixada da Alemanha em Brasília',\n",
              " 'info@bras.diplo.de',\n",
              " 'Consulado-Geral da Alemanha em Porto Alegre',\n",
              " 'info@porto-alegre.diplo.de',\n",
              " 'Consulado-Geral da Alemanha em Recife',\n",
              " 'info@recife.diplo.de',\n",
              " 'Consulado-Geral da Alemanha no Rio de Janeiro',\n",
              " 'info@rio-de-janeiro.diplo.de',\n",
              " 'Consulado-Geral da Alemanha em São Paulo',\n",
              " 'info@sao-paulo.diplo.de',\n",
              " 'Consulado Honorário da Alemanha em Anápolis',\n",
              " 'anapolis@hk-diplo.de']"
            ]
          },
          "execution_count": 46,
          "metadata": {},
          "output_type": "execute_result"
        }
      ],
      "source": [
        "mylist.insert(2, \"Representantes Diplomáticos da África do Sul\")\r\n",
        "mylist[0:20]"
      ]
    },
    {
      "cell_type": "code",
      "execution_count": 47,
      "metadata": {
        "colab": {
          "base_uri": "https://localhost:8080/"
        },
        "id": "A9j3vWsSbv7o",
        "outputId": "77fdb3bf-0301-4571-db57-c2a264cd317a"
      },
      "outputs": [],
      "source": [
        "file = open(\"not_passwords\", \"r\")\r\n",
        "contents = file.read()\r\n",
        "credentials = ast.literal_eval(contents)\r\n",
        "file.close()"
      ]
    },
    {
      "cell_type": "code",
      "execution_count": 48,
      "metadata": {
        "id": "Hw_u7GGxIT5N"
      },
      "outputs": [],
      "source": [
        "def Generate_email(embassy, emails):\r\n",
        "  email_end = \"\"\"\"\r\n",
        "  Rua Edson Mororó Moura, 650 - Apt 203, Jaboatão dos Guararapes - Pernambuco\r\n",
        "  CEP: 54400-235\r\n",
        "\r\n",
        "  Atenciosamente,\r\n",
        "  Thiago.\r\n",
        "  \"\"\"\r\n",
        "  body = str(\"\"\"\r\n",
        "  Olá <0>, espero que estejam todos bem.\r\n",
        "  Meu nome é Thiago Casa Nova e sou um grande fã de colecionar brindes e bandeiras dos mais diversos lugares que eu puder visitar, contudo por conta da pandemia essa minha paixão teve que ficar quase 2 anos parada. \r\n",
        "  Estou entrando em contato para saber se seria possível me enviar qualquer tipo de brinde relacionado ao seu país, como uma bandeira por exemplo, não precisa ser nada super chique ou caro, uma simples souvenier já será muito agradecida.\r\n",
        "  Já me extendi demais, espero não ter atrapalhado, vou deixar minhas informações de endereço abaixo caso seja possível realizar o envio, no mais desejo um ótimo final de semana para todos!\r\n",
        "\r\n",
        "  <1>\r\n",
        "  \"\"\") \r\n",
        "\r\n",
        "  translator = Translator()\r\n",
        "  text = translator.translate(body, dest='en', src='pt')\r\n",
        "\r\n",
        "\r\n",
        "  # Create message\r\n",
        "  emails = [t.split(',') for t in emails]\r\n",
        "  message = MIMEText(body, 'plain', 'utf-8')\r\n",
        "  message['Subject'] = 'Pedido de Colecionador'\r\n",
        "  message['To'] = ','.join(emails)\r\n",
        "\r\n",
        "def Send_emails(message, credentials):\r\n",
        "  gmail_user = credentials[\"email\"]\r\n",
        "  gmail_password = credentials[\"password\"]\r\n",
        "  message['From'] = gmail_user\r\n",
        "  \r\n",
        "  try:\r\n",
        "    # Set smtp\r\n",
        "    smtp = smtplib.SMTP(\"smtp.gmail.com:587\")\r\n",
        "    smtp.ehlo()\r\n",
        "    smtp.starttls()\r\n",
        "    smtp.login(gmail_user, gmail_password)\r\n",
        "\r\n",
        "    # Send msil\r\n",
        "    smtp.sendmail(message['From'], message['To'], message.as_string())\r\n",
        "    print('Send mails OK!')\r\n",
        "  except:\r\n",
        "    print(\"Something went wrong while sending email to: \", message['To'])"
      ]
    },
    {
      "cell_type": "code",
      "execution_count": null,
      "metadata": {},
      "outputs": [],
      "source": [
        "is_email = True #Anterior foi email?\r\n",
        "embassy = \"\"\r\n",
        "mail = []\r\n",
        "for item in mylist:\r\n",
        "  if re.search(r\"[a-z0-9+_][a-z0-9\\.\\-+_]+@[a-z0-9\\.\\-+_]+\\.[a-z0-9\\.\\-+_]+\", item): \r\n",
        "    mail.append(item)\r\n",
        "  elif embassy == \"\":\r\n",
        "    embassy = item\r\n",
        "  else:\r\n",
        "    Generate_email(embassy, mail)\r\n",
        "    mail = []\r\n",
        "    embassy = item"
      ]
    },
    {
      "cell_type": "code",
      "execution_count": null,
      "metadata": {},
      "outputs": [],
      "source": [
        "for"
      ]
    },
    {
      "cell_type": "code",
      "execution_count": null,
      "metadata": {
        "colab": {
          "base_uri": "https://localhost:8080/",
          "height": 374
        },
        "id": "s3SQ3AiOMIyN",
        "outputId": "1037c331-3977-4b8a-eaca-a44df9c3f95e"
      },
      "outputs": [],
      "source": [
        "body = str(\"\"\"\r\n",
        "Olá <0>, espero que estejam todos bem.\r\n",
        "Meu nome é Thiago Casa Nova e sou um grande fã de colecionar brindes e bandeiras dos mais diversos lugares que eu puder visitar, contudo por conta da pandemia essa minha paixão teve que ficar quase 2 anos parada. \r\n",
        "Estou entrando em contato para saber se seria possível me enviar qualquer tipo de brinde relacionado ao seu país, como uma bandeira por exemplo, não precisa ser nada super chique ou caro, uma simples souvenier já será muito agradecida.\r\n",
        "Já me extendi demais, espero não ter atrapalhado, vou deixar minhas informações de endereço abaixo caso seja possível realizar o envio, no mais desejo um ótimo final de semana para todos!\r\n",
        "\r\n",
        "<1>\r\n",
        "\"\"\")\r\n",
        "\r\n",
        "translator = Translator()\r\n",
        "text = translator.translate(body, dest='en', src='pt')"
      ]
    },
    {
      "cell_type": "code",
      "execution_count": null,
      "metadata": {},
      "outputs": [],
      "source": [
        "email_end = \"\"\"\r\n",
        "Rua Edson Mororó Moura, 650 - Apt 203, Jaboatão dos Guararapes - Pernambuco\r\n",
        "CEP: 54400-235\r\n",
        "\r\n",
        "Atenciosamente,\r\n",
        "Thiago\r\n",
        "\"\"\""
      ]
    },
    {
      "cell_type": "code",
      "execution_count": null,
      "metadata": {
        "id": "rppIfG3bNEXp"
      },
      "outputs": [],
      "source": [
        "print(text.text.replace(\"\\\\n\", \"\\n\").replace(\"<1>\", email_end))"
      ]
    },
    {
      "cell_type": "code",
      "execution_count": null,
      "metadata": {},
      "outputs": [],
      "source": []
    }
  ],
  "metadata": {
    "colab": {
      "collapsed_sections": [],
      "name": "flag_project.ipynb",
      "provenance": []
    },
    "interpreter": {
      "hash": "054341ebc65047489d5a4cf0a8d5bb068d9cdcdb1fd9ccfc67d1a30ce61b778d"
    },
    "kernelspec": {
      "display_name": "Python 3.8.5 64-bit ('thiag': virtualenv)",
      "name": "python3"
    },
    "language_info": {
      "codemirror_mode": {
        "name": "ipython",
        "version": 3
      },
      "file_extension": ".py",
      "mimetype": "text/x-python",
      "name": "python",
      "nbconvert_exporter": "python",
      "pygments_lexer": "ipython3",
      "version": "3.8.5"
    }
  },
  "nbformat": 4,
  "nbformat_minor": 0
}